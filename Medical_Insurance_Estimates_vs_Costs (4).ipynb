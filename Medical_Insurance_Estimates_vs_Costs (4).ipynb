{
  "metadata": {
    "language_info": {
      "codemirror_mode": {
        "name": "python",
        "version": 3
      },
      "file_extension": ".py",
      "mimetype": "text/x-python",
      "name": "python",
      "nbconvert_exporter": "python",
      "pygments_lexer": "ipython3",
      "version": "3.8"
    },
    "kernelspec": {
      "name": "python",
      "display_name": "Python (Pyodide)",
      "language": "python"
    }
  },
  "nbformat_minor": 4,
  "nbformat": 4,
  "cells": [
    {
      "cell_type": "markdown",
      "source": "This project was a guided project from the Codecademy Machine Learning Specialist Program that I am currently enrolled in. The goal of this  this project was to use Python loops to analyze medical insurance costs for a group of individuals.",
      "metadata": {}
    },
    {
      "cell_type": "markdown",
      "source": "Below are the descriptions for the given data for this project.\n\n     - 'names' stores the names of seven individuals.\n     \n     - 'estimated_insurance_costs' stores the estimated medical insurance costs for the individuals. \n     \n     - 'actual_insurance_costs' stores the actual insurance costs paid by the individuals.",
      "metadata": {}
    },
    {
      "cell_type": "code",
      "source": "names = [\"Judith\", \"Abel\", \"Tyson\", \"Martha\", \"Beverley\", \"David\", \"Anabel\"]\nestimated_insurance_costs = [1000.0, 2000.0, 3000.0, 4000.0, 5000.0, 6000.0, 7000.0]\nactual_insurance_costs = [1100.0, 2200.0, 3300.0, 4400.0, 5500.0, 6600.0, 7700.0]",
      "metadata": {
        "trusted": true
      },
      "execution_count": 1,
      "outputs": []
    },
    {
      "cell_type": "code",
      "source": "total_cost = 0\n\n#this for loop calculates the total insurance cost\nfor cost in actual_insurance_costs:\n  total_cost += cost\n\nprint(total_cost)",
      "metadata": {
        "trusted": true
      },
      "execution_count": 9,
      "outputs": [
        {
          "name": "stdout",
          "text": "30800.0\n",
          "output_type": "stream"
        }
      ]
    },
    {
      "cell_type": "code",
      "source": "#this block of code calculates the average cost of insurance\naverage_cost = total_cost/len(actual_insurance_costs)\nprint(\"Average Insurance Cost: \" + str(average_cost) + \" dollars.\")",
      "metadata": {
        "trusted": true
      },
      "execution_count": 10,
      "outputs": [
        {
          "name": "stdout",
          "text": "Average Insurance Cost: 4400.0 dollars.\n",
          "output_type": "stream"
        }
      ]
    },
    {
      "cell_type": "code",
      "source": "#this for loop determines whether each person's insurance cost was at, above, or below the average insurance cost\n\nfor i in range(len(names)):\n  name = names[i]\n  insurance_cost = actual_insurance_costs[i]\n  #print(\"The insurance cost for \" + str(name) + \" is \" + str(insurance_cost) + \"dollars.\")\n  if insurance_cost > average_cost:\n    print(\"The insurance cost for \" + str(name) + \" is above average.\")\n  if insurance_cost < average_cost:\n    print(\"The insurance cost for \" + str(name) + \" is below average.\")\n  if insurance_cost == average_cost:\n      print(\"The insurance cost for \" + str(name) + \" is equal to the average.\")",
      "metadata": {
        "trusted": true
      },
      "execution_count": 11,
      "outputs": [
        {
          "name": "stdout",
          "text": "The insurance cost for Judith is below average.\nThe insurance cost for Abel is below average.\nThe insurance cost for Tyson is below average.\nThe insurance cost for Martha is equal to the average.\nThe insurance cost for Beverley is above average.\nThe insurance cost for David is above average.\nThe insurance cost for Anabel is above average.\n",
          "output_type": "stream"
        }
      ]
    },
    {
      "cell_type": "code",
      "source": "#This list comprehension multiples each estimated costs by 1.1 so that it matches the actual insurance costs\nupdated_estimated_costs = [round(cost*(11/10), 2) for cost in estimated_insurance_costs]\n\nprint(updated_estimated_costs)\nprint(actual_insurance_costs)",
      "metadata": {
        "trusted": true
      },
      "execution_count": 12,
      "outputs": [
        {
          "name": "stdout",
          "text": "[1100.0, 2200.0, 3300.0, 4400.0, 5500.0, 6600.0, 7700.0]\n[1100.0, 2200.0, 3300.0, 4400.0, 5500.0, 6600.0, 7700.0]\n",
          "output_type": "stream"
        }
      ]
    }
  ]
}