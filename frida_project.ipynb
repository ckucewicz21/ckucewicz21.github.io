{
  "metadata": {
    "kernelspec": {
      "name": "python",
      "display_name": "Python (Pyodide)",
      "language": "python"
    },
    "language_info": {
      "codemirror_mode": {
        "name": "python",
        "version": 3
      },
      "file_extension": ".py",
      "mimetype": "text/x-python",
      "name": "python",
      "nbconvert_exporter": "python",
      "pygments_lexer": "ipython3",
      "version": "3.8"
    }
  },
  "nbformat_minor": 4,
  "nbformat": 4,
  "cells": [
    {
      "cell_type": "markdown",
      "source": "# Frida Kahlo Exhibition\n\nYou've been hired to work on a retrospective of Frida Kahlo's work at a major museum. Your job is to put together the audio tour, but in order to do that you need to create a list of each painting featured in the exhibit, the date it was painted, and its spot in the tour. \n\nUse your knowledge of Python lists to create a master list of each painting, its date, and its audio tour ID. \n",
      "metadata": {}
    },
    {
      "cell_type": "markdown",
      "source": "## Task 1\nFirst, create a list called `paintings` and add the following titles to it:\n\n`The Two Fridas, My Dress Hangs Here, Tree of Hope, Self Portrait With Monkeys`\n",
      "metadata": {}
    },
    {
      "cell_type": "code",
      "source": "paintings = [\"The Two Fridas\", \"My Dress Hangs Here\", \"Tree of Hope\", \"Self Portrait With Monkeys\"]\nprint(paintings)",
      "metadata": {
        "trusted": true
      },
      "execution_count": 1,
      "outputs": [
        {
          "name": "stdout",
          "text": "['The Two Fridas', 'My Dress Hangs Here', 'Tree of Hope', 'Self Portrait With Monkeys']\n",
          "output_type": "stream"
        }
      ]
    },
    {
      "cell_type": "markdown",
      "source": "## Task 2\n\nNext, create a second list called `dates` and give it the following values:\n`1939, 1933, 1946, 1940`",
      "metadata": {}
    },
    {
      "cell_type": "code",
      "source": "dates = [1939, 1933, 1946, 1940]\nprint(dates)",
      "metadata": {
        "trusted": true
      },
      "execution_count": 2,
      "outputs": [
        {
          "name": "stdout",
          "text": "[1939, 1933, 1946, 1940]\n",
          "output_type": "stream"
        }
      ]
    },
    {
      "cell_type": "markdown",
      "source": "## Task 3 \nIt doesn't do much good to have the paintings without their dates, and vice versa. \nZip together the two lists so that each painting is paired with its date and resave it to the `paintings` variable. Make sure to convert the zipped object into a list using the `list()` function. Print the results to the terminal to check your work. ",
      "metadata": {}
    },
    {
      "cell_type": "code",
      "source": "paintings = list(zip(paintings, dates))\nprint(paintings)",
      "metadata": {
        "trusted": true
      },
      "execution_count": 3,
      "outputs": [
        {
          "name": "stdout",
          "text": "[('The Two Fridas', 1939), ('My Dress Hangs Here', 1933), ('Tree of Hope', 1946), ('Self Portrait With Monkeys', 1940)]\n",
          "output_type": "stream"
        }
      ]
    },
    {
      "cell_type": "markdown",
      "source": "## Task 4\nThere were some last minute additions to the show that we need to add to our list. Append the following paintings to our `paintings` list then re-print to check they were added correctly:\n- 'The Broken Column', 1944\n- 'The Wounded Deer', 1946\n- 'Me and My Doll', 1937\n\nHint: Make sure to append each painting individually and that you're appending them as tuples, not lists. ",
      "metadata": {}
    },
    {
      "cell_type": "code",
      "source": "paintings.append([\"The Broken Column\", 1944])\npaintings.append([\"The Wounded Deer\", 1946])\npaintings.append([\"Me and My Doll\", 1937])\nprint(paintings)\n",
      "metadata": {
        "trusted": true
      },
      "execution_count": 4,
      "outputs": [
        {
          "name": "stdout",
          "text": "[('The Two Fridas', 1939), ('My Dress Hangs Here', 1933), ('Tree of Hope', 1946), ('Self Portrait With Monkeys', 1940), ['The Broken Column', 1944], ['The Wounded Deer', 1946], ['Me and My Doll', 1937]]\n",
          "output_type": "stream"
        }
      ]
    },
    {
      "cell_type": "markdown",
      "source": "## Task 5\nSince each of these paintings is going to be in the audio tour, they each need a unique identification number.\nBut before we assign them a number, we first need to check how many paintings there are in total.\n\nFind the length of the `paintings` list.",
      "metadata": {}
    },
    {
      "cell_type": "code",
      "source": "paintings_length = len(paintings)\nprint(paintings_length)",
      "metadata": {
        "trusted": true
      },
      "execution_count": 5,
      "outputs": [
        {
          "name": "stdout",
          "text": "7\n",
          "output_type": "stream"
        }
      ]
    },
    {
      "cell_type": "markdown",
      "source": "## Task 6\nUse the `range` method to generate a list of identification numbers that starts at 1 and is equal in length to our list of items. \nSave the list to the variable `audio_tour_number` and check your work by printing the list.",
      "metadata": {}
    },
    {
      "cell_type": "code",
      "source": "audio_tour_number = list(range(1, 8))\nprint(audio_tour_number)",
      "metadata": {
        "trusted": true
      },
      "execution_count": 7,
      "outputs": [
        {
          "name": "stdout",
          "text": "[1, 2, 3, 4, 5, 6, 7]\n",
          "output_type": "stream"
        }
      ]
    },
    {
      "cell_type": "markdown",
      "source": "## Task 7 \n\nWe're finally read to create our master list. \nZip the `audio_tour_number` list to the `paintings` list and save it as `master_list`.\n\nHint: Make sure to convert the zipped object into a list using the `list()` function.",
      "metadata": {}
    },
    {
      "cell_type": "code",
      "source": "master_list = list(zip(paintings, audio_tour_number))\n",
      "metadata": {
        "trusted": true
      },
      "execution_count": 8,
      "outputs": [
        {
          "name": "stdout",
          "text": "[(('The Two Fridas', 1939), 1), (('My Dress Hangs Here', 1933), 2), (('Tree of Hope', 1946), 3), (('Self Portrait With Monkeys', 1940), 4), (['The Broken Column', 1944], 5), (['The Wounded Deer', 1946], 6), (['Me and My Doll', 1937], 7)]\n",
          "output_type": "stream"
        }
      ]
    },
    {
      "cell_type": "markdown",
      "source": "## Task 8 \nPrint the `master_list` to the terminal.",
      "metadata": {}
    },
    {
      "cell_type": "code",
      "source": "print(master_list)",
      "metadata": {
        "trusted": true
      },
      "execution_count": 9,
      "outputs": [
        {
          "name": "stdout",
          "text": "[(('The Two Fridas', 1939), 1), (('My Dress Hangs Here', 1933), 2), (('Tree of Hope', 1946), 3), (('Self Portrait With Monkeys', 1940), 4), (['The Broken Column', 1944], 5), (['The Wounded Deer', 1946], 6), (['Me and My Doll', 1937], 7)]\n",
          "output_type": "stream"
        }
      ]
    },
    {
      "cell_type": "code",
      "source": "",
      "metadata": {},
      "execution_count": null,
      "outputs": []
    }
  ]
}